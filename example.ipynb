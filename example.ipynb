{
 "cells": [
  {
   "cell_type": "code",
   "execution_count": 1,
   "metadata": {},
   "outputs": [
    {
     "name": "stdout",
     "output_type": "stream",
     "text": [
      "Requirement already satisfied: onn in ./venv/lib/python3.8/site-packages (0.2.1)\n",
      "Requirement already satisfied: numpy in ./venv/lib/python3.8/site-packages (from onn) (1.21.4)\n",
      "Requirement already satisfied: torch in ./venv/lib/python3.8/site-packages (from onn) (1.10.0)\n",
      "Requirement already satisfied: mabalgs in ./venv/lib/python3.8/site-packages (from onn) (0.6.8)\n",
      "Requirement already satisfied: typing-extensions in ./venv/lib/python3.8/site-packages (from torch->onn) (4.0.0)\n"
     ]
    }
   ],
   "source": [
    "!pip3 install --upgrade onn"
   ]
  },
  {
   "cell_type": "code",
   "execution_count": 7,
   "metadata": {},
   "outputs": [
    {
     "name": "stdout",
     "output_type": "stream",
     "text": [
      "Requirement already up-to-date: imbalanced-learn in ./venv/lib/python3.8/site-packages (0.8.1)\n",
      "Requirement already satisfied, skipping upgrade: numpy>=1.13.3 in ./venv/lib/python3.8/site-packages (from imbalanced-learn) (1.21.4)\n",
      "Requirement already satisfied, skipping upgrade: joblib>=0.11 in ./venv/lib/python3.8/site-packages (from imbalanced-learn) (1.1.0)\n",
      "Requirement already satisfied, skipping upgrade: scikit-learn>=0.24 in ./venv/lib/python3.8/site-packages (from imbalanced-learn) (1.0.1)\n",
      "Requirement already satisfied, skipping upgrade: scipy>=0.19.1 in ./venv/lib/python3.8/site-packages (from imbalanced-learn) (1.7.2)\n",
      "Requirement already satisfied, skipping upgrade: threadpoolctl>=2.0.0 in ./venv/lib/python3.8/site-packages (from scikit-learn>=0.24->imbalanced-learn) (3.0.0)\n",
      "\u001b[33mWARNING: You are using pip version 20.1.1; however, version 21.3.1 is available.\n",
      "You should consider upgrading via the '/mnt/c/Users/Peter/Desktop/online-model/venv/bin/python3 -m pip install --upgrade pip' command.\u001b[0m\n"
     ]
    }
   ],
   "source": [
    "!pip3 install -U imbalanced-learn"
   ]
  },
  {
   "cell_type": "markdown",
   "metadata": {},
   "source": [
    "## Dependencies"
   ]
  },
  {
   "cell_type": "code",
   "execution_count": 4,
   "metadata": {},
   "outputs": [],
   "source": [
    "from onn.OnlineNeuralNetwork import ONN\n",
    "from onn.OnlineNeuralNetwork import ONN_THS\n",
    "from sklearn.datasets import make_classification, make_circles\n",
    "from sklearn.model_selection import train_test_split\n",
    "import torch\n",
    "from sklearn.metrics import accuracy_score, balanced_accuracy_score\n",
    "from imblearn.datasets import make_imbalance\n",
    "import numpy as np"
   ]
  },
  {
   "cell_type": "markdown",
   "metadata": {},
   "source": [
    "## Initialize the Network"
   ]
  },
  {
   "cell_type": "code",
   "execution_count": 5,
   "metadata": {},
   "outputs": [],
   "source": [
    "onn_network = ONN(features_size=10, max_num_hidden_layers=5, qtd_neuron_per_hidden_layer=40, n_classes=10)"
   ]
  },
  {
   "cell_type": "markdown",
   "metadata": {},
   "source": [
    "## Creating Fake Classification Dataset"
   ]
  },
  {
   "cell_type": "code",
   "execution_count": 6,
   "metadata": {},
   "outputs": [],
   "source": [
    "X, Y = make_classification(n_samples=50000, n_features=10, n_informative=4, n_redundant=0, n_classes=10,\n",
    "                           n_clusters_per_class=1, class_sep=3)\n",
    "X_train, X_test, y_train, y_test = train_test_split(X, Y, test_size=0.3, random_state=42, shuffle=True)"
   ]
  },
  {
   "cell_type": "markdown",
   "metadata": {},
   "source": [
    "## Learning and Predicting at the Same Time"
   ]
  },
  {
   "cell_type": "code",
   "execution_count": 7,
   "metadata": {},
   "outputs": [
    {
     "name": "stdout",
     "output_type": "stream",
     "text": [
      "Online Accuracy: 0.12345474254226929\n",
      "WARNING: Set 'show_loss' to 'False' when not debugging. It will deteriorate the fitting performance.\n",
      "Alpha:[0.83978504 0.04005372 0.04005372 0.04005372 0.04005372]\n",
      "Training Loss: 1.1249603\n",
      "Online Accuracy: 0.9546213619299208\n",
      "WARNING: Set 'show_loss' to 'False' when not debugging. It will deteriorate the fitting performance.\n",
      "Alpha:[0.83990383 0.04002402 0.04002402 0.04002402 0.04002402]\n",
      "Training Loss: 0.2449453\n",
      "Online Accuracy: 0.9607803207573932\n",
      "WARNING: Set 'show_loss' to 'False' when not debugging. It will deteriorate the fitting performance.\n",
      "Alpha:[0.83983886 0.04004026 0.04004026 0.04004026 0.04004026]\n",
      "Training Loss: 0.20816919\n",
      "Online Accuracy: 0.9607183488393096\n",
      "WARNING: Set 'show_loss' to 'False' when not debugging. It will deteriorate the fitting performance.\n",
      "Alpha:[0.8393975  0.04059466 0.04000259 0.04000259 0.04000259]\n",
      "Training Loss: 0.18339467\n",
      "Online Accuracy: 0.9655154179731016\n",
      "WARNING: Set 'show_loss' to 'False' when not debugging. It will deteriorate the fitting performance.\n",
      "Alpha:[0.8353383  0.04421487 0.0403742  0.04003632 0.04003632]\n",
      "Training Loss: 0.24723394\n",
      "Online Accuracy: 0.9662435981100199\n",
      "WARNING: Set 'show_loss' to 'False' when not debugging. It will deteriorate the fitting performance.\n",
      "Alpha:[0.8395832  0.04028165 0.04004847 0.04004331 0.04004331]\n",
      "Training Loss: 0.16647828\n",
      "Online Accuracy: 0.9619529567236043\n",
      "WARNING: Set 'show_loss' to 'False' when not debugging. It will deteriorate the fitting performance.\n",
      "Alpha:[0.8399791  0.04000521 0.04000521 0.04000521 0.04000521]\n",
      "Training Loss: 0.16890837\n",
      "Online Accuracy: 0.9618319844925818\n",
      "WARNING: Set 'show_loss' to 'False' when not debugging. It will deteriorate the fitting performance.\n",
      "Alpha:[0.8353959  0.04115101 0.04115101 0.04115101 0.04115101]\n",
      "Training Loss: 0.14621308\n",
      "Online Accuracy: 0.9707971883179001\n",
      "WARNING: Set 'show_loss' to 'False' when not debugging. It will deteriorate the fitting performance.\n",
      "Alpha:[0.8376416  0.04203499 0.04023731 0.04004303 0.04004303]\n",
      "Training Loss: 0.12924133\n",
      "Online Accuracy: 0.9638287109074417\n",
      "WARNING: Set 'show_loss' to 'False' when not debugging. It will deteriorate the fitting performance.\n",
      "Alpha:[0.836956   0.04227248 0.04061536 0.04011491 0.04004124]\n",
      "Training Loss: 0.1682845\n",
      "Online Accuracy: 0.9686992001807786\n",
      "WARNING: Set 'show_loss' to 'False' when not debugging. It will deteriorate the fitting performance.\n",
      "Alpha:[0.82588196 0.04522423 0.04461598 0.04348376 0.04079402]\n",
      "Training Loss: 0.16665892\n",
      "Online Accuracy: 0.9614922833157268\n",
      "WARNING: Set 'show_loss' to 'False' when not debugging. It will deteriorate the fitting performance.\n",
      "Alpha:[0.82686603 0.04565494 0.04267894 0.0426919  0.04210816]\n",
      "Training Loss: 0.23211034\n",
      "Online Accuracy: 0.969421407533791\n",
      "WARNING: Set 'show_loss' to 'False' when not debugging. It will deteriorate the fitting performance.\n",
      "Alpha:[0.8133861  0.04747684 0.04714322 0.04724298 0.04475088]\n",
      "Training Loss: 0.20936987\n",
      "Online Accuracy: 0.9644026201542217\n",
      "WARNING: Set 'show_loss' to 'False' when not debugging. It will deteriorate the fitting performance.\n",
      "Alpha:[0.8163941  0.0501083  0.04570407 0.04479402 0.0429996 ]\n",
      "Training Loss: 0.18542005\n",
      "Online Accuracy: 0.9713595800808452\n",
      "WARNING: Set 'show_loss' to 'False' when not debugging. It will deteriorate the fitting performance.\n",
      "Alpha:[0.82819635 0.04402507 0.04409818 0.04283734 0.04084307]\n",
      "Training Loss: 0.13875505\n",
      "Online Accuracy: 0.9683228111229731\n"
     ]
    }
   ],
   "source": [
    "for i in range(len(X_train)):\n",
    "  onn_network.partial_fit(np.asarray([X_train[i, :]]), np.asarray([y_train[i]]))\n",
    "  \n",
    "  if i % 1000 == 0:\n",
    "    predictions = onn_network.predict(X_test)\n",
    "    print(\"Online Accuracy: {}\".format(balanced_accuracy_score(y_test, predictions)))"
   ]
  }
 ],
 "metadata": {
  "kernelspec": {
   "display_name": "Python 3",
   "language": "python",
   "name": "python3"
  },
  "language_info": {
   "codemirror_mode": {
    "name": "ipython",
    "version": 3
   },
   "file_extension": ".py",
   "mimetype": "text/x-python",
   "name": "python",
   "nbconvert_exporter": "python",
   "pygments_lexer": "ipython3",
   "version": "3.8.5"
  }
 },
 "nbformat": 4,
 "nbformat_minor": 4
}
