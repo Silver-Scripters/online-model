{
  "nbformat": 4,
  "nbformat_minor": 0,
  "metadata": {
    "colab": {
      "name": "topher.ipynb",
      "provenance": [],
      "collapsed_sections": [],
      "machine_shape": "hm"
    },
    "kernelspec": {
      "name": "python3",
      "display_name": "Python 3"
    },
    "language_info": {
      "name": "python"
    },
    "accelerator": "GPU"
  },
  "cells": [
    {
      "cell_type": "markdown",
      "metadata": {
        "id": "uSaDslbNM8dh"
      },
      "source": [
        "# Exploring Traditional and Deep Learning Approaches to Online Learning in NBA Game Prediction\n",
        "\n",
        "### By Peter Wu and Jerry Sun `{plw53, js2746}@cornell.edu`\n",
        "\n",
        "Online learning approaches have traditionally been used for prediction tasks that involve streams of new data that are increasingly relevant as recency increases. A major possible testbed for such methods is sports, where new data is well-documented. As such, we plan on evaluating several machine learning algorithms on daily sets of new data, with a specialized data collection architecture that translates complicated game data to a suitable data format for the model to train on, day by day. "
      ]
    },
    {
      "cell_type": "markdown",
      "metadata": {
        "id": "eb1k8GaQm4kg"
      },
      "source": [
        "## Verifying Colab Runtime Environment Settings\n",
        "\n",
        "Make sure we are using a high-RAM runtime and are connected to a GPU before running Hedge Backpropagation for our deep neural network."
      ]
    },
    {
      "cell_type": "code",
      "metadata": {
        "colab": {
          "base_uri": "https://localhost:8080/"
        },
        "id": "jusKtgFUi_CN",
        "outputId": "1ed5b33e-c016-43ca-e4f2-afdcdd6fe712"
      },
      "source": [
        "from psutil import virtual_memory\n",
        "ram_gb = virtual_memory().total / 1e9\n",
        "print('Your runtime has {:.1f} gigabytes of available RAM\\n'.format(ram_gb))\n",
        "\n",
        "if ram_gb < 20:\n",
        "  print('Not using a high-RAM runtime')\n",
        "else:\n",
        "  print('You are using a high-RAM runtime!')\n",
        "\n",
        "gpu_info = !nvidia-smi\n",
        "gpu_info = '\\n'.join(gpu_info)\n",
        "if gpu_info.find('failed') >= 0:\n",
        "  print('Not connected to a GPU')\n",
        "else:\n",
        "  print(gpu_info)"
      ],
      "execution_count": 1,
      "outputs": [
        {
          "output_type": "stream",
          "name": "stdout",
          "text": [
            "Your runtime has 27.3 gigabytes of available RAM\n",
            "\n",
            "You are using a high-RAM runtime!\n",
            "Tue Dec  7 21:28:03 2021       \n",
            "+-----------------------------------------------------------------------------+\n",
            "| NVIDIA-SMI 495.44       Driver Version: 460.32.03    CUDA Version: 11.2     |\n",
            "|-------------------------------+----------------------+----------------------+\n",
            "| GPU  Name        Persistence-M| Bus-Id        Disp.A | Volatile Uncorr. ECC |\n",
            "| Fan  Temp  Perf  Pwr:Usage/Cap|         Memory-Usage | GPU-Util  Compute M. |\n",
            "|                               |                      |               MIG M. |\n",
            "|===============================+======================+======================|\n",
            "|   0  Tesla P100-PCIE...  Off  | 00000000:00:04.0 Off |                    0 |\n",
            "| N/A   37C    P0    26W / 250W |      0MiB / 16280MiB |      0%      Default |\n",
            "|                               |                      |                  N/A |\n",
            "+-------------------------------+----------------------+----------------------+\n",
            "                                                                               \n",
            "+-----------------------------------------------------------------------------+\n",
            "| Processes:                                                                  |\n",
            "|  GPU   GI   CI        PID   Type   Process name                  GPU Memory |\n",
            "|        ID   ID                                                   Usage      |\n",
            "|=============================================================================|\n",
            "|  No running processes found                                                 |\n",
            "+-----------------------------------------------------------------------------+\n"
          ]
        }
      ]
    },
    {
      "cell_type": "markdown",
      "metadata": {
        "id": "CjEzQuqhNYUF"
      },
      "source": [
        "## Installing Dependencies\n",
        "\n",
        "(only run this once!)"
      ]
    },
    {
      "cell_type": "code",
      "metadata": {
        "colab": {
          "base_uri": "https://localhost:8080/"
        },
        "id": "egHzfPbYNCPQ",
        "outputId": "7e6e4261-3beb-4538-8fd3-7a141b233b01"
      },
      "source": [
        "!pip3 install -U onn\n",
        "!pip3 install -U imbalanced-learn"
      ],
      "execution_count": 3,
      "outputs": [
        {
          "output_type": "stream",
          "name": "stdout",
          "text": [
            "Collecting onn\n",
            "  Downloading onn-0.2.1.tar.gz (4.5 kB)\n",
            "Requirement already satisfied: numpy in /usr/local/lib/python3.7/dist-packages (from onn) (1.19.5)\n",
            "Requirement already satisfied: torch in /usr/local/lib/python3.7/dist-packages (from onn) (1.10.0+cu111)\n",
            "Collecting mabalgs\n",
            "  Downloading mabalgs-0.6.8.tar.gz (12 kB)\n",
            "Requirement already satisfied: typing-extensions in /usr/local/lib/python3.7/dist-packages (from torch->onn) (3.10.0.2)\n",
            "Building wheels for collected packages: onn, mabalgs\n",
            "  Building wheel for onn (setup.py) ... \u001b[?25l\u001b[?25hdone\n",
            "  Created wheel for onn: filename=onn-0.2.1-py3-none-any.whl size=4688 sha256=9e7f30d5b2b261058479b531cc1ff2b2d9c4a0f9a6fa1a54f6ebe77480f26270\n",
            "  Stored in directory: /root/.cache/pip/wheels/09/62/46/9a5dd2903d1bbefffbf53589871a629a20d6e4ddb0a9249702\n",
            "  Building wheel for mabalgs (setup.py) ... \u001b[?25l\u001b[?25hdone\n",
            "  Created wheel for mabalgs: filename=mabalgs-0.6.8-py3-none-any.whl size=9712 sha256=566a08a1766169eb966d3e4852c33407f814cd248a9f8daa9f741217d26956e3\n",
            "  Stored in directory: /root/.cache/pip/wheels/46/dd/ca/c9d5b1955d24d3b8b6244895e29b5dc0884f2ac538090785ea\n",
            "Successfully built onn mabalgs\n",
            "Installing collected packages: mabalgs, onn\n",
            "Successfully installed mabalgs-0.6.8 onn-0.2.1\n",
            "Requirement already satisfied: imbalanced-learn in /usr/local/lib/python3.7/dist-packages (0.8.1)\n",
            "Requirement already satisfied: joblib>=0.11 in /usr/local/lib/python3.7/dist-packages (from imbalanced-learn) (1.1.0)\n",
            "Requirement already satisfied: numpy>=1.13.3 in /usr/local/lib/python3.7/dist-packages (from imbalanced-learn) (1.19.5)\n",
            "Requirement already satisfied: scikit-learn>=0.24 in /usr/local/lib/python3.7/dist-packages (from imbalanced-learn) (1.0.1)\n",
            "Requirement already satisfied: scipy>=0.19.1 in /usr/local/lib/python3.7/dist-packages (from imbalanced-learn) (1.4.1)\n",
            "Requirement already satisfied: threadpoolctl>=2.0.0 in /usr/local/lib/python3.7/dist-packages (from scikit-learn>=0.24->imbalanced-learn) (3.0.0)\n"
          ]
        }
      ]
    },
    {
      "cell_type": "markdown",
      "metadata": {
        "id": "TZBLaNqrNqsd"
      },
      "source": [
        "## Library Imports"
      ]
    },
    {
      "cell_type": "code",
      "metadata": {
        "id": "O2qFxDoWNt6i"
      },
      "source": [
        "from onn.OnlineNeuralNetwork import ONN\n",
        "from onn.OnlineNeuralNetwork import ONN_THS\n",
        "from sklearn.datasets import make_classification, make_circles\n",
        "from sklearn.model_selection import train_test_split\n",
        "import torch\n",
        "from sklearn.metrics import accuracy_score, balanced_accuracy_score\n",
        "from sklearn.decomposition import PCA\n",
        "from imblearn.datasets import make_imbalance\n",
        "import numpy as np\n",
        "import pandas as pd\n",
        "import matplotlib.pyplot as plt\n",
        "import time\n",
        "import warnings\n",
        "warnings.filterwarnings(\"ignore\")"
      ],
      "execution_count": 4,
      "outputs": []
    },
    {
      "cell_type": "markdown",
      "metadata": {
        "id": "dbfjpDV1nJO5"
      },
      "source": [
        "## Dataset Preprocessing"
      ]
    },
    {
      "cell_type": "code",
      "metadata": {
        "colab": {
          "base_uri": "https://localhost:8080/"
        },
        "id": "VCqBf91mnOZI",
        "outputId": "bfa6a305-edb5-4c41-90e3-7705555ce67b"
      },
      "source": [
        "url = 'https://raw.githubusercontent.com/Silver-Scripters/scraper/main/final.csv'\n",
        "df = pd.read_csv(url)\n",
        "\n",
        "# Pre-process features\n",
        "columns = ['min', 'fg', 'fga', '3p', '3pa', 'ft', 'fta', 'oreb', 'dreb', 'ast', 'stl', 'blk', 'tov', 'pts']\n",
        "# Name columns for 10 players\n",
        "for i in range(1, 11):\n",
        "  for col in columns:\n",
        "    addon = '' if i == 1 else str(i)\n",
        "    df[col+addon] = (df[col+addon] - df[col+addon].min()) / df[col+addon].max()\n",
        "\n",
        "# Normalize team records and pre-process them\n",
        "df.insert(4, 'team1record', (df['team1_wins'] - df['team1_losses'])/82*0.5 + 0.5)\n",
        "df.insert(5, 'team2record', (df['team2_wins'] - df['team2_losses'])/82*0.5 + 0.5)\n",
        "df = df.loc[(df['dates'] != ' 1999') & (df['dates'] != ' 2000')]\n",
        "\n",
        "# Create Batches for the dates\n",
        "counter = 0\n",
        "curr = df['dates'].iloc[0]\n",
        "for i in range(len(df)):\n",
        "  if df['dates'].iloc[i] != curr:\n",
        "    counter += 1\n",
        "    curr = df['dates'].iloc[i]\n",
        "  df['dates'].iloc[i] = counter\n",
        "df = df.reset_index()\n",
        "\n",
        "# Calculate the labels (winning team)\n",
        "df['winner'] = (df['team1pts'] > df['team2pts']).astype(int)\n",
        "\n",
        "# Drop the label constituent columns\n",
        "df = df.drop(['team1pts', 'team2pts', 'team1_wins', 'team1_losses', 'team2_wins', 'team2_losses'], axis = 1)\n",
        "print(df['dates'])\n",
        "\n",
        "data_df = df\n",
        "data_df = data_df.drop(['index'], axis=1)\n",
        "batches = []\n",
        "while len(data_df) > 0:\n",
        "  current = data_df.loc[(data_df['dates'] == data_df['dates'].iloc[0])]\n",
        "  batches.append(current)\n",
        "  data_df = data_df.loc[(data_df['dates'] != data_df['dates'].iloc[0])]\n",
        "\n",
        "data_df.head()\n",
        "print(len(batches))"
      ],
      "execution_count": 5,
      "outputs": [
        {
          "output_type": "stream",
          "name": "stdout",
          "text": [
            "0           0\n",
            "1           0\n",
            "2           0\n",
            "3           1\n",
            "4           2\n",
            "         ... \n",
            "21652    3899\n",
            "21653    3900\n",
            "21654    3901\n",
            "21655    3902\n",
            "21656    3903\n",
            "Name: dates, Length: 21657, dtype: object\n",
            "3904\n"
          ]
        }
      ]
    },
    {
      "cell_type": "markdown",
      "metadata": {
        "id": "ISqlWbpiDXXF"
      },
      "source": [
        "## Baseline 1: Online Perceptron"
      ]
    },
    {
      "cell_type": "code",
      "metadata": {
        "colab": {
          "base_uri": "https://localhost:8080/"
        },
        "id": "evvdLfi6DZ8A",
        "outputId": "32b8e3ed-4332-4c23-fc51-5721dbbca832"
      },
      "source": [
        "from sklearn.linear_model import Perceptron\n",
        "\n",
        "accuracies = []\n",
        "acc = [0, 0]\n",
        "start = time.time()\n",
        "# Initialize Model\n",
        "estimator = Perceptron(tol=1e-3, random_state=0)\n",
        "for i in range(len(batches)):\n",
        "    # Determine training batch for this day\n",
        "    Y = batches[i].iloc[:, -1].to_numpy()\n",
        "    X = batches[i].iloc[:, :-2].to_numpy()\n",
        "    np.random.seed(42)\n",
        "    # Train each sample of data for this batch\n",
        "    for j in range(len(X)):\n",
        "      estimator.partial_fit(np.asarray([X[j, :]]), np.asarray([Y[j]]), classes=[0, 1])\n",
        "    if i < len(batches) - 1:\n",
        "      # Evaluate Model on Next Day Batch\n",
        "      X_test = batches[i+1].iloc[:, :-2].to_numpy()\n",
        "      Y_test = batches[i+1].iloc[:, -1].to_numpy()\n",
        "      acc[1] += len(X_test)\n",
        "      predictions = estimator.predict(X_test)\n",
        "      acc[0] += balanced_accuracy_score(Y_test, predictions)*len(X_test)\n",
        "      if i % 100 == 0:\n",
        "        print(\"Online Accuracy: {}\".format(acc[0]/acc[1]))\n",
        "        accuracies.append(acc[0]/acc[1])\n",
        "        acc[0] = 0\n",
        "        acc[1] = 0  \n",
        "end = time.time()\n",
        "print(\"Wall Clock Time: {}\".format(end - start))"
      ],
      "execution_count": 45,
      "outputs": [
        {
          "output_type": "stream",
          "name": "stdout",
          "text": [
            "Online Accuracy: 1.0\n",
            "Online Accuracy: 0.5076237496794049\n",
            "Online Accuracy: 0.5655589638718472\n",
            "Online Accuracy: 0.5424356893106893\n",
            "Online Accuracy: 0.5488993563304586\n",
            "Online Accuracy: 0.5122179359548699\n",
            "Online Accuracy: 0.5936733485578956\n",
            "Online Accuracy: 0.5480504280363832\n",
            "Online Accuracy: 0.5554093567251462\n",
            "Online Accuracy: 0.5667747837658017\n",
            "Online Accuracy: 0.637876522702104\n",
            "Online Accuracy: 0.5302973472494021\n",
            "Online Accuracy: 0.5717713610266805\n",
            "Online Accuracy: 0.5222116273693943\n",
            "Online Accuracy: 0.5768816089570806\n",
            "Online Accuracy: 0.5510132448040944\n",
            "Online Accuracy: 0.6068754437802056\n",
            "Online Accuracy: 0.590679012345679\n",
            "Online Accuracy: 0.6228850171446739\n",
            "Online Accuracy: 0.5850453254696375\n",
            "Online Accuracy: 0.5980776594263438\n",
            "Online Accuracy: 0.6083520599250937\n",
            "Online Accuracy: 0.6058994389746604\n",
            "Online Accuracy: 0.615860768175583\n",
            "Online Accuracy: 0.5690729124510994\n",
            "Online Accuracy: 0.5357843978937729\n",
            "Online Accuracy: 0.5843680786267996\n",
            "Online Accuracy: 0.5642495987158909\n",
            "Online Accuracy: 0.5992652125973399\n",
            "Online Accuracy: 0.55918292427103\n",
            "Online Accuracy: 0.5824289902937321\n",
            "Online Accuracy: 0.5827135093167701\n",
            "Online Accuracy: 0.6170606696922486\n",
            "Online Accuracy: 0.5779673938540933\n",
            "Online Accuracy: 0.5618431556295987\n",
            "Online Accuracy: 0.5555025856496445\n",
            "Online Accuracy: 0.5604135632810915\n",
            "Online Accuracy: 0.6358327005821311\n",
            "Online Accuracy: 0.5832120465741155\n",
            "Online Accuracy: 0.5894884591391141\n",
            "Wall Clock Time: 21.730863571166992\n"
          ]
        }
      ]
    },
    {
      "cell_type": "code",
      "metadata": {
        "colab": {
          "base_uri": "https://localhost:8080/",
          "height": 312
        },
        "id": "mHYqzmXUeNg3",
        "outputId": "6bbcbf71-e03c-4359-ba6f-2e15d37c6d32"
      },
      "source": [
        "plt.plot([100*i for i in list(range(len(accuracies)))], accuracies)\n",
        "plt.ylim(0.50, 0.7)\n",
        "plt.xlabel('Number of Days in the NBA')\n",
        "plt.ylabel('Accuracy')\n",
        "plt.title('100 Days Running Accuracy Averages for a Perceptron')\n"
      ],
      "execution_count": 46,
      "outputs": [
        {
          "output_type": "execute_result",
          "data": {
            "text/plain": [
              "Text(0.5, 1.0, '100 Days Running Accuracy Averages for a Perceptron')"
            ]
          },
          "metadata": {},
          "execution_count": 46
        },
        {
          "output_type": "display_data",
          "data": {
            "image/png": "[encoded data removed]",
            "text/plain": [
              "<Figure size 432x288 with 1 Axes>"
            ]
          },
          "metadata": {
            "needs_background": "light"
          }
        }
      ]
    },
    {
      "cell_type": "markdown",
      "metadata": {
        "id": "5saWrMwoE4Zq"
      },
      "source": [
        "## Baseline 2: Online Logistic Regression"
      ]
    },
    {
      "cell_type": "code",
      "metadata": {
        "id": "TW0OPNZaE7Qp",
        "colab": {
          "base_uri": "https://localhost:8080/"
        },
        "outputId": "7e5d5d75-ed9d-404f-9a8b-21b4b1ee4152"
      },
      "source": [
        "from sklearn.linear_model import SGDClassifier\n",
        "\n",
        "accuracies = []\n",
        "acc = [0, 0]\n",
        "start = time.time()\n",
        "# Initialize Model\n",
        "clf = SGDClassifier(max_iter=1000, tol=1e-3, loss='log')\n",
        "\n",
        "for i in range(len(batches)):\n",
        "    # Determine training batch for this day\n",
        "    Y = batches[i].iloc[:, -1].to_numpy()\n",
        "    X = batches[i].iloc[:, :-2].to_numpy()\n",
        "    np.random.seed(42)\n",
        "    # Train each sample of data for this batch\n",
        "    for j in range(len(X)):\n",
        "      clf.partial_fit(np.asarray([X[j, :]]), np.asarray([Y[j]]), classes=[0, 1])\n",
        "      # Evaluate Model on Next Day Batch\n",
        "    if i < len(batches) - 1:\n",
        "      X_test = batches[i+1].iloc[:, :-2].to_numpy()\n",
        "      Y_test = batches[i+1].iloc[:, -1].to_numpy()\n",
        "      acc[1] += len(X_test)\n",
        "      predictions = clf.predict(X_test)\n",
        "      acc[0] += balanced_accuracy_score(Y_test, predictions)*len(X_test)\n",
        "      if i % 100 == 0:\n",
        "        print(\"Online Accuracy: {}\".format(acc[0]/acc[1]))\n",
        "        accuracies.append(acc[0]/acc[1])\n",
        "        acc[0] = 0\n",
        "        acc[1] = 0\n",
        "end = time.time()\n",
        "print(\"Wall Clock Time: {}\".format(end - start))"
      ],
      "execution_count": 47,
      "outputs": [
        {
          "output_type": "stream",
          "name": "stdout",
          "text": [
            "Online Accuracy: 1.0\n",
            "Online Accuracy: 0.48449388732153553\n",
            "Online Accuracy: 0.5162016749440064\n",
            "Online Accuracy: 0.5437843406593407\n",
            "Online Accuracy: 0.5419330396200474\n",
            "Online Accuracy: 0.5401097837508988\n",
            "Online Accuracy: 0.562528546054301\n",
            "Online Accuracy: 0.5587576541228227\n",
            "Online Accuracy: 0.5421125730994152\n",
            "Online Accuracy: 0.5977984507176124\n",
            "Online Accuracy: 0.6005195644149134\n",
            "Online Accuracy: 0.5601285605566428\n",
            "Online Accuracy: 0.5775728920409772\n",
            "Online Accuracy: 0.5205732778548313\n",
            "Online Accuracy: 0.5779062132835717\n",
            "Online Accuracy: 0.5386446553930215\n",
            "Online Accuracy: 0.6174763508096842\n",
            "Online Accuracy: 0.563508230452675\n",
            "Online Accuracy: 0.6194881576855827\n",
            "Online Accuracy: 0.6027022353283821\n",
            "Online Accuracy: 0.5932765942634365\n",
            "Online Accuracy: 0.5927314071696094\n",
            "Online Accuracy: 0.5993534161675756\n",
            "Online Accuracy: 0.5843756123848716\n",
            "Online Accuracy: 0.5594692881874185\n",
            "Online Accuracy: 0.5451822916666667\n",
            "Online Accuracy: 0.6059270025839795\n",
            "Online Accuracy: 0.5946682718031032\n",
            "Online Accuracy: 0.5975079250223968\n",
            "Online Accuracy: 0.568295049297252\n",
            "Online Accuracy: 0.5994508425549459\n",
            "Online Accuracy: 0.6514855072463767\n",
            "Online Accuracy: 0.6093677323940484\n",
            "Online Accuracy: 0.5992464227070139\n",
            "Online Accuracy: 0.5578462677588041\n",
            "Online Accuracy: 0.5587912087912088\n",
            "Online Accuracy: 0.5858162166320485\n",
            "Online Accuracy: 0.6597064034421665\n",
            "Online Accuracy: 0.5507015972533214\n",
            "Online Accuracy: 0.579153670201705\n",
            "Wall Clock Time: 16.258260488510132\n"
          ]
        }
      ]
    },
    {
      "cell_type": "code",
      "metadata": {
        "colab": {
          "base_uri": "https://localhost:8080/",
          "height": 312
        },
        "id": "i07cz4V2el8U",
        "outputId": "3422c410-22e0-424d-f228-c47b1afc113a"
      },
      "source": [
        "plt.plot([100*i for i in list(range(len(accuracies)))], accuracies)\n",
        "plt.ylim(0.50, 0.7)\n",
        "plt.xlabel('Number of Days in the NBA')\n",
        "plt.ylabel('Accuracy')\n",
        "plt.title('100 Days Running Accuracy Averages for a Logistic Regression')"
      ],
      "execution_count": 48,
      "outputs": [
        {
          "output_type": "execute_result",
          "data": {
            "text/plain": [
              "Text(0.5, 1.0, '100 Days Running Accuracy Averages for a Logistic Regression')"
            ]
          },
          "metadata": {},
          "execution_count": 48
        },
        {
          "output_type": "display_data",
          "data": {
            "image/png": "[encoded data removed]",
            "text/plain": [
              "<Figure size 432x288 with 1 Axes>"
            ]
          },
          "metadata": {
            "needs_background": "light"
          }
        }
      ]
    },
    {
      "cell_type": "markdown",
      "metadata": {
        "id": "qEF6OeRqNwco"
      },
      "source": [
        "## Online Deep Learning"
      ]
    },
    {
      "cell_type": "code",
      "metadata": {
        "colab": {
          "base_uri": "https://localhost:8080/"
        },
        "id": "hpE6t0LZNyzT",
        "outputId": "ed3bf04d-7da2-4b72-9ce4-ba2532a70eec"
      },
      "source": [
        "# Initialize Model\n",
        "\n",
        "onn_network = ONN(features_size = 142, \n",
        "                  max_num_hidden_layers = 3, \n",
        "                  qtd_neuron_per_hidden_layer = 32, \n",
        "                  n_classes = 2)\n",
        "\n",
        "accuracies = []\n",
        "acc = [0, 0]\n",
        "start = time.time()\n",
        "for i in range(len(batches)):\n",
        "  # Evaluate Model on Current Day Batch prior to fitting\n",
        "  X_test = batches[i].iloc[:, :-2].to_numpy()\n",
        "  Y_test = batches[i].iloc[:, -1].to_numpy()\n",
        "  acc[1] += len(X_test)\n",
        "  predictions = onn_network.predict(X_test)\n",
        "  acc[0] += balanced_accuracy_score(Y_test, predictions)*len(X_test)\n",
        "  if i % 100 == 0:\n",
        "    print(\"Online Accuracy: {}\".format(acc[0]/acc[1]))\n",
        "    accuracies.append(acc[0]/acc[1])\n",
        "    acc[0] = 0\n",
        "    acc[1] = 0\n",
        "    # Determine training batch for this day\n",
        "  Y = batches[i].iloc[:, -1].to_numpy()\n",
        "  X = batches[i].iloc[:, :-2].to_numpy()\n",
        "  # Train each sample of data for this batch\n",
        "  for j in range(len(X)):\n",
        "    onn_network.partial_fit(np.asarray([X[j, :]]), np.asarray([Y[j]]), show_loss=False)\n",
        "end = time.time()\n",
        "print(\"Wall Clock Time: {}\".format(end - start))"
      ],
      "execution_count": 19,
      "outputs": [
        {
          "output_type": "stream",
          "name": "stdout",
          "text": [
            "Online Accuracy: 0.25\n",
            "Online Accuracy: 0.5119479733817301\n",
            "Online Accuracy: 0.5252525252525253\n",
            "Online Accuracy: 0.5211640211640212\n",
            "Online Accuracy: 0.5185185185185185\n",
            "Online Accuracy: 0.5272887323943662\n",
            "Online Accuracy: 0.5377855887521968\n",
            "Online Accuracy: 0.53125\n",
            "Online Accuracy: 0.5234782608695652\n",
            "Online Accuracy: 0.5212981744421906\n",
            "Online Accuracy: 0.5145482388973966\n",
            "Online Accuracy: 0.5081585081585082\n",
            "Online Accuracy: 0.5210674157303371\n",
            "Online Accuracy: 0.5392156862745098\n",
            "Online Accuracy: 0.5130057803468208\n",
            "Online Accuracy: 0.5286975717439294\n",
            "Online Accuracy: 0.5085592011412268\n",
            "Online Accuracy: 0.5420792079207921\n",
            "Online Accuracy: 0.5064655172413793\n",
            "Online Accuracy: 0.545662100456621\n",
            "Online Accuracy: 0.5058565153733529\n",
            "Online Accuracy: 0.5446428571428571\n",
            "Online Accuracy: 0.5301914580265096\n",
            "Online Accuracy: 0.5529045643153527\n",
            "Online Accuracy: 0.5014144271570015\n",
            "Online Accuracy: 0.5447941888619855\n",
            "Online Accuracy: 0.5124269005847953\n",
            "Online Accuracy: 0.5529279279279279\n",
            "Online Accuracy: 0.5245310245310245\n",
            "Online Accuracy: 0.5200991189427313\n",
            "Online Accuracy: 0.5137115839243499\n",
            "Online Accuracy: 0.5269978401727862\n",
            "Online Accuracy: 0.5285739723239723\n",
            "Online Accuracy: 0.5427235772357724\n",
            "Online Accuracy: 0.5371345029239766\n",
            "Online Accuracy: 0.5199357520786092\n",
            "Online Accuracy: 0.5399612121212121\n",
            "Online Accuracy: 0.6009607351712616\n",
            "Online Accuracy: 0.5287900874635568\n",
            "Online Accuracy: 0.5772727272727273\n",
            "Wall Clock Time: 47.47369456291199\n"
          ]
        }
      ]
    },
    {
      "cell_type": "code",
      "metadata": {
        "id": "zb9EKvQbNzot",
        "colab": {
          "base_uri": "https://localhost:8080/",
          "height": 312
        },
        "outputId": "1bb1c2d3-4842-4917-e0c2-bf9d6377e471"
      },
      "source": [
        "plt.plot([100*i for i in list(range(len(accuracies)))], accuracies)\n",
        "plt.ylim(0.50, 0.7)\n",
        "plt.xlabel('Number of Days in the NBA')\n",
        "plt.ylabel('Accuracy')\n",
        "plt.title('100 Days Running Accuracy Averages for ONN')"
      ],
      "execution_count": 20,
      "outputs": [
        {
          "output_type": "execute_result",
          "data": {
            "text/plain": [
              "Text(0.5, 1.0, '100 Days Running Accuracy Averages for ONN')"
            ]
          },
          "metadata": {},
          "execution_count": 20
        },
        {
          "output_type": "display_data",
          "data": {
            "image/png": "[encoded data removed]",
            "text/plain": [
              "<Figure size 432x288 with 1 Axes>"
            ]
          },
          "metadata": {
            "needs_background": "light"
          }
        }
      ]
    },
    {
      "cell_type": "markdown",
      "metadata": {
        "id": "3T-qPfzDyyjo"
      },
      "source": [
        "## Experiment 2"
      ]
    },
    {
      "cell_type": "code",
      "metadata": {
        "id": "G2Puz_tQy1jN"
      },
      "source": [
        "# Network Definitions\n",
        "network_size = 32\n",
        "linear_input = 142\n",
        "class NN(torch.nn.Module):\n",
        "  def __init__(self, linear_input, network_size):\n",
        "      super(NN, self).__init__()\n",
        "      self.fc1 = torch.nn.Linear(linear_input, network_size)\n",
        "      self.relu = torch.nn.LeakyReLU(0.1)\n",
        "      self.fc2 = torch.nn.Linear(network_size, network_size)\n",
        "      self.relu = torch.nn.LeakyReLU(0.1)\n",
        "      self.fc3 = torch.nn.Linear(network_size, network_size)\n",
        "      self.relu = torch.nn.LeakyReLU(0.1)\n",
        "      self.fc4 = torch.nn.Linear(network_size, 1)\n",
        "      self.sigmoid = torch.nn.Sigmoid()\n",
        "  def forward(self, x):\n",
        "      x = self.fc1(x)\n",
        "      x = self.relu(x)\n",
        "      x = self.fc2(x)\n",
        "      x = self.relu(x)\n",
        "      x = self.fc3(x)\n",
        "      x = self.relu(x)\n",
        "      x = self.fc4(x)\n",
        "      x = self.sigmoid(x)\n",
        "      return x\n"
      ],
      "execution_count": 8,
      "outputs": []
    },
    {
      "cell_type": "code",
      "metadata": {
        "id": "DM28fqYay9VT"
      },
      "source": [
        "# Training definition\n",
        "def train(model, loss, optimizer):\n",
        "  training = []\n",
        "  accuracies = []\n",
        "  test_batch = batches[3404:]\n",
        "  test = test_batch[0]\n",
        "  # Split into train and test batch\n",
        "  for i in range(1, len(test_batch)):\n",
        "    test = pd.concat([test, test_batch[i]], ignore_index=True)\n",
        "  X_test = torch.from_numpy(test.iloc[:, :-2].to_numpy()).float()\n",
        "  Y_test = test.iloc[:, -1].to_numpy()\n",
        "  train_batch = batches[:3404]\n",
        "  train = train_batch[0]\n",
        "  for i in range(1, len(train_batch)):\n",
        "    train = pd.concat([train, train_batch[i]], ignore_index=True)\n",
        "  X = torch.from_numpy(train.iloc[:, :-2].to_numpy()).float()\n",
        "  Y = torch.from_numpy(train.iloc[:, -1].to_numpy()).float()\n",
        "\n",
        "\n",
        "  start = time.time()\n",
        "  # Train for 800 epochs\n",
        "  for i in range(800):\n",
        "    train_loss = 0\n",
        "    model.train()\n",
        "    preds = model(X)\n",
        "    loss_ = loss(preds.squeeze(), Y)\n",
        "    train_loss += loss_.item()\n",
        "    optimizer.zero_grad()\n",
        "    loss_.backward()\n",
        "    optimizer.step()\n",
        "    training.append(train_loss)\n",
        "    # Every 10 epochs evaluate\n",
        "    if i % 10 == 0:\n",
        "      with torch.no_grad():\n",
        "        model.eval()\n",
        "        preds = torch.round(model(X_test)).numpy()\n",
        "        correct = 0\n",
        "        accuracy = balanced_accuracy_score(preds, Y_test)\n",
        "      print(\"Training Loss: {}\".format(loss_.item()))\n",
        "      print(\"Online Accuracy: {}\".format(accuracy))\n",
        "      accuracies.append(accuracy)\n",
        "\n",
        "  end = time.time()\n",
        "  print(\"Wall Clock Time: {}\".format(end - start))\n",
        "  return accuracies, training"
      ],
      "execution_count": 55,
      "outputs": []
    },
    {
      "cell_type": "code",
      "metadata": {
        "colab": {
          "base_uri": "https://localhost:8080/"
        },
        "id": "Rz5aBRqzYud1",
        "outputId": "ae57d921-78b6-4e07-b1a5-d2db29aba680"
      },
      "source": [
        "model = NN(linear_input, network_size)\n",
        "loss = torch.nn.BCELoss()\n",
        "optimizer = torch.optim.SGD(model.parameters(), lr = 0.1, weight_decay=5e-6)\n",
        "accuracies, training = train(model, loss, optimizer)"
      ],
      "execution_count": 58,
      "outputs": [
        {
          "output_type": "stream",
          "name": "stdout",
          "text": [
            "Training Loss: 0.7047199010848999\n",
            "Online Accuracy: 0.4071207430340557\n",
            "Training Loss: 0.6865364909172058\n",
            "Online Accuracy: 0.5928792569659442\n",
            "Training Loss: 0.6786632537841797\n",
            "Online Accuracy: 0.5928792569659442\n",
            "Training Loss: 0.6752898097038269\n",
            "Online Accuracy: 0.5928792569659442\n",
            "Training Loss: 0.6738721132278442\n",
            "Online Accuracy: 0.5928792569659442\n",
            "Training Loss: 0.6732821464538574\n",
            "Online Accuracy: 0.5928792569659442\n",
            "Training Loss: 0.6730364561080933\n",
            "Online Accuracy: 0.5928792569659442\n",
            "Training Loss: 0.6729323267936707\n",
            "Online Accuracy: 0.5928792569659442\n",
            "Training Loss: 0.6728860139846802\n",
            "Online Accuracy: 0.5928792569659442\n",
            "Training Loss: 0.6728630065917969\n",
            "Online Accuracy: 0.5928792569659442\n",
            "Training Loss: 0.6728496551513672\n",
            "Online Accuracy: 0.5928792569659442\n",
            "Training Loss: 0.672840416431427\n",
            "Online Accuracy: 0.5928792569659442\n",
            "Training Loss: 0.6728327870368958\n",
            "Online Accuracy: 0.5928792569659442\n",
            "Training Loss: 0.6728259325027466\n",
            "Online Accuracy: 0.5928792569659442\n",
            "Training Loss: 0.6728195548057556\n",
            "Online Accuracy: 0.5928792569659442\n",
            "Training Loss: 0.6728135943412781\n",
            "Online Accuracy: 0.5928792569659442\n",
            "Training Loss: 0.6728078126907349\n",
            "Online Accuracy: 0.5928792569659442\n",
            "Training Loss: 0.6728020906448364\n",
            "Online Accuracy: 0.5928792569659442\n",
            "Training Loss: 0.6727966070175171\n",
            "Online Accuracy: 0.5928792569659442\n",
            "Training Loss: 0.6727911829948425\n",
            "Online Accuracy: 0.5928792569659442\n",
            "Training Loss: 0.6727858781814575\n",
            "Online Accuracy: 0.5928792569659442\n",
            "Training Loss: 0.6727805733680725\n",
            "Online Accuracy: 0.5928792569659442\n",
            "Training Loss: 0.6727753281593323\n",
            "Online Accuracy: 0.5928792569659442\n",
            "Training Loss: 0.6727700233459473\n",
            "Online Accuracy: 0.5928792569659442\n",
            "Training Loss: 0.6727649569511414\n",
            "Online Accuracy: 0.5928792569659442\n",
            "Training Loss: 0.6727599501609802\n",
            "Online Accuracy: 0.5928792569659442\n",
            "Training Loss: 0.6727551221847534\n",
            "Online Accuracy: 0.5928792569659442\n",
            "Training Loss: 0.6727504134178162\n",
            "Online Accuracy: 0.5928792569659442\n",
            "Training Loss: 0.6727455258369446\n",
            "Online Accuracy: 0.5928792569659442\n",
            "Training Loss: 0.6727408170700073\n",
            "Online Accuracy: 0.5928792569659442\n",
            "Training Loss: 0.6727359294891357\n",
            "Online Accuracy: 0.5928792569659442\n",
            "Training Loss: 0.6727311611175537\n",
            "Online Accuracy: 0.5928792569659442\n",
            "Training Loss: 0.6727264523506165\n",
            "Online Accuracy: 0.5928792569659442\n",
            "Training Loss: 0.6727215051651001\n",
            "Online Accuracy: 0.5928792569659442\n",
            "Training Loss: 0.6727165579795837\n",
            "Online Accuracy: 0.5928792569659442\n",
            "Training Loss: 0.6727115511894226\n",
            "Online Accuracy: 0.5928792569659442\n",
            "Training Loss: 0.6727064847946167\n",
            "Online Accuracy: 0.5928792569659442\n",
            "Training Loss: 0.6727015972137451\n",
            "Online Accuracy: 0.5928792569659442\n",
            "Training Loss: 0.6726964712142944\n",
            "Online Accuracy: 0.5928792569659442\n",
            "Training Loss: 0.6726913452148438\n",
            "Online Accuracy: 0.5928792569659442\n",
            "Training Loss: 0.6726860404014587\n",
            "Online Accuracy: 0.5928792569659442\n",
            "Training Loss: 0.672680675983429\n",
            "Online Accuracy: 0.5928792569659442\n",
            "Training Loss: 0.6726750731468201\n",
            "Online Accuracy: 0.5928792569659442\n",
            "Training Loss: 0.6726691722869873\n",
            "Online Accuracy: 0.5928792569659442\n",
            "Training Loss: 0.6726632118225098\n",
            "Online Accuracy: 0.5928792569659442\n",
            "Training Loss: 0.6726567149162292\n",
            "Online Accuracy: 0.5928792569659442\n",
            "Training Loss: 0.6726499795913696\n",
            "Online Accuracy: 0.5928792569659442\n",
            "Training Loss: 0.6726429462432861\n",
            "Online Accuracy: 0.5928792569659442\n",
            "Training Loss: 0.6726357340812683\n",
            "Online Accuracy: 0.5928792569659442\n",
            "Training Loss: 0.6726280450820923\n",
            "Online Accuracy: 0.5928792569659442\n",
            "Training Loss: 0.6726197004318237\n",
            "Online Accuracy: 0.5928792569659442\n",
            "Training Loss: 0.6726106405258179\n",
            "Online Accuracy: 0.5928792569659442\n",
            "Training Loss: 0.6726015210151672\n",
            "Online Accuracy: 0.5928792569659442\n",
            "Training Loss: 0.6725923418998718\n",
            "Online Accuracy: 0.5928792569659442\n",
            "Training Loss: 0.6725825071334839\n",
            "Online Accuracy: 0.5928792569659442\n",
            "Training Loss: 0.6725713014602661\n",
            "Online Accuracy: 0.5928792569659442\n",
            "Training Loss: 0.6725597381591797\n",
            "Online Accuracy: 0.5928792569659442\n",
            "Training Loss: 0.6725484132766724\n",
            "Online Accuracy: 0.5928792569659442\n",
            "Training Loss: 0.6725372076034546\n",
            "Online Accuracy: 0.5928792569659442\n",
            "Training Loss: 0.6725258231163025\n",
            "Online Accuracy: 0.5928792569659442\n",
            "Training Loss: 0.6725144386291504\n",
            "Online Accuracy: 0.5928792569659442\n",
            "Training Loss: 0.6725029945373535\n",
            "Online Accuracy: 0.5928792569659442\n",
            "Training Loss: 0.6724911332130432\n",
            "Online Accuracy: 0.5928792569659442\n",
            "Training Loss: 0.6724783182144165\n",
            "Online Accuracy: 0.5928792569659442\n",
            "Training Loss: 0.6724652051925659\n",
            "Online Accuracy: 0.5928792569659442\n",
            "Training Loss: 0.6724525690078735\n",
            "Online Accuracy: 0.5928792569659442\n",
            "Training Loss: 0.6724399328231812\n",
            "Online Accuracy: 0.5928792569659442\n",
            "Training Loss: 0.6724268198013306\n",
            "Online Accuracy: 0.5928792569659442\n",
            "Training Loss: 0.67241370677948\n",
            "Online Accuracy: 0.5928792569659442\n",
            "Training Loss: 0.6724002361297607\n",
            "Online Accuracy: 0.5928792569659442\n",
            "Training Loss: 0.6723867654800415\n",
            "Online Accuracy: 0.5928792569659442\n",
            "Training Loss: 0.6723729968070984\n",
            "Online Accuracy: 0.5928792569659442\n",
            "Training Loss: 0.672359049320221\n",
            "Online Accuracy: 0.5928792569659442\n",
            "Training Loss: 0.6723451018333435\n",
            "Online Accuracy: 0.5928792569659442\n",
            "Training Loss: 0.6723308563232422\n",
            "Online Accuracy: 0.5928792569659442\n",
            "Training Loss: 0.6723161339759827\n",
            "Online Accuracy: 0.5928792569659442\n",
            "Training Loss: 0.6723011136054993\n",
            "Online Accuracy: 0.5928792569659442\n",
            "Training Loss: 0.672285795211792\n",
            "Online Accuracy: 0.5928792569659442\n",
            "Training Loss: 0.6722699999809265\n",
            "Online Accuracy: 0.5928792569659442\n",
            "Training Loss: 0.6722538471221924\n",
            "Online Accuracy: 0.5928792569659442\n",
            "Wall Clock Time: 9.633331537246704\n"
          ]
        }
      ]
    },
    {
      "cell_type": "code",
      "metadata": {
        "id": "PTkFadP6y9qV",
        "colab": {
          "base_uri": "https://localhost:8080/",
          "height": 312
        },
        "outputId": "1a40bf34-c838-4108-9dcc-400c81a61d09"
      },
      "source": [
        "plt.plot([10*i for i in list(range(len(accuracies)))], accuracies)\n",
        "plt.ylim(0.55, 0.75)\n",
        "plt.xlabel('Number of Epochs')\n",
        "plt.ylabel('Accuracy')\n",
        "plt.title('Accuracy across Epochs for DNN with SGD')"
      ],
      "execution_count": 59,
      "outputs": [
        {
          "output_type": "execute_result",
          "data": {
            "text/plain": [
              "Text(0.5, 1.0, 'Accuracy across Epochs for DNN with SGD')"
            ]
          },
          "metadata": {},
          "execution_count": 59
        },
        {
          "output_type": "display_data",
          "data": {
            "image/png": "[encoded data removed]",
            "text/plain": [
              "<Figure size 432x288 with 1 Axes>"
            ]
          },
          "metadata": {
            "needs_background": "light"
          }
        }
      ]
    },
    {
      "cell_type": "code",
      "metadata": {
        "id": "-18irxxE-I7z",
        "colab": {
          "base_uri": "https://localhost:8080/"
        },
        "outputId": "17d0951f-3caa-4c53-c523-a4a9d6e3b3a2"
      },
      "source": [
        "model = NN(linear_input, network_size)\n",
        "loss = torch.nn.BCELoss()\n",
        "optimizer = torch.optim.SGD(model.parameters(), lr = 0.1, momentum=0.9, nesterov=False, weight_decay=5e-6)\n",
        "accuracies, training = train(model, loss, optimizer)"
      ],
      "execution_count": 67,
      "outputs": [
        {
          "output_type": "stream",
          "name": "stdout",
          "text": [
            "Training Loss: 0.7067005038261414\n",
            "Online Accuracy: 0.4071207430340557\n",
            "Training Loss: 0.6730005741119385\n",
            "Online Accuracy: 0.5928792569659442\n",
            "Training Loss: 0.6753986477851868\n",
            "Online Accuracy: 0.5928792569659442\n",
            "Training Loss: 0.6733291149139404\n",
            "Online Accuracy: 0.5928792569659442\n",
            "Training Loss: 0.6727922558784485\n",
            "Online Accuracy: 0.5928792569659442\n",
            "Training Loss: 0.6727498769760132\n",
            "Online Accuracy: 0.5928792569659442\n",
            "Training Loss: 0.672573447227478\n",
            "Online Accuracy: 0.5928792569659442\n",
            "Training Loss: 0.6725242137908936\n",
            "Online Accuracy: 0.5928792569659442\n",
            "Training Loss: 0.6724235415458679\n",
            "Online Accuracy: 0.5928792569659442\n",
            "Training Loss: 0.6723182797431946\n",
            "Online Accuracy: 0.5928792569659442\n",
            "Training Loss: 0.6721802353858948\n",
            "Online Accuracy: 0.5928792569659442\n",
            "Training Loss: 0.6719990372657776\n",
            "Online Accuracy: 0.5928792569659442\n",
            "Training Loss: 0.6717415452003479\n",
            "Online Accuracy: 0.5928792569659442\n",
            "Training Loss: 0.671410083770752\n",
            "Online Accuracy: 0.5928792569659442\n",
            "Training Loss: 0.6709758639335632\n",
            "Online Accuracy: 0.5928792569659442\n",
            "Training Loss: 0.670375645160675\n",
            "Online Accuracy: 0.5928792569659442\n",
            "Training Loss: 0.6695191264152527\n",
            "Online Accuracy: 0.5928792569659442\n",
            "Training Loss: 0.6682668328285217\n",
            "Online Accuracy: 0.5928792569659442\n",
            "Training Loss: 0.6663885712623596\n",
            "Online Accuracy: 0.5928792569659442\n",
            "Training Loss: 0.6635288596153259\n",
            "Online Accuracy: 0.5928792569659442\n",
            "Training Loss: 0.6591973900794983\n",
            "Online Accuracy: 0.5928792569659442\n",
            "Training Loss: 0.6528813242912292\n",
            "Online Accuracy: 0.5928792569659442\n",
            "Training Loss: 0.6439793109893799\n",
            "Online Accuracy: 0.6460531238309015\n",
            "Training Loss: 0.6320587396621704\n",
            "Online Accuracy: 0.6493305146620802\n",
            "Training Loss: 0.6172606945037842\n",
            "Online Accuracy: 0.6432837502817219\n",
            "Training Loss: 0.6014196276664734\n",
            "Online Accuracy: 0.649169868665789\n",
            "Training Loss: 0.6271581053733826\n",
            "Online Accuracy: 0.6654302376324037\n",
            "Training Loss: 0.7148914933204651\n",
            "Online Accuracy: 0.5453343576939083\n",
            "Training Loss: 0.6838380098342896\n",
            "Online Accuracy: 0.5928792569659442\n",
            "Training Loss: 0.6727932691574097\n",
            "Online Accuracy: 0.5928792569659442\n",
            "Training Loss: 0.6731810569763184\n",
            "Online Accuracy: 0.5928792569659442\n",
            "Training Loss: 0.670833945274353\n",
            "Online Accuracy: 0.5928792569659442\n",
            "Training Loss: 0.6707125902175903\n",
            "Online Accuracy: 0.5928792569659442\n",
            "Training Loss: 0.6704105138778687\n",
            "Online Accuracy: 0.5928792569659442\n",
            "Training Loss: 0.6700985431671143\n",
            "Online Accuracy: 0.5928792569659442\n",
            "Training Loss: 0.6698141694068909\n",
            "Online Accuracy: 0.5928792569659442\n",
            "Training Loss: 0.6694844365119934\n",
            "Online Accuracy: 0.5928792569659442\n",
            "Training Loss: 0.669100284576416\n",
            "Online Accuracy: 0.5928792569659442\n",
            "Training Loss: 0.668667733669281\n",
            "Online Accuracy: 0.5928792569659442\n",
            "Training Loss: 0.6681734323501587\n",
            "Online Accuracy: 0.5928792569659442\n",
            "Training Loss: 0.6676005721092224\n",
            "Online Accuracy: 0.5928792569659442\n",
            "Training Loss: 0.6669259071350098\n",
            "Online Accuracy: 0.5928792569659442\n",
            "Training Loss: 0.6661158800125122\n",
            "Online Accuracy: 0.5928792569659442\n",
            "Training Loss: 0.6651191711425781\n",
            "Online Accuracy: 0.5928792569659442\n",
            "Training Loss: 0.6638447642326355\n",
            "Online Accuracy: 0.5928792569659442\n",
            "Training Loss: 0.662105917930603\n",
            "Online Accuracy: 0.5928792569659442\n",
            "Training Loss: 0.65970778465271\n",
            "Online Accuracy: 0.5107544764122179\n",
            "Training Loss: 0.6561367511749268\n",
            "Online Accuracy: 0.538248194884945\n",
            "Training Loss: 0.6504573822021484\n",
            "Online Accuracy: 0.5937742239024371\n",
            "Training Loss: 0.6408149003982544\n",
            "Online Accuracy: 0.6528075024802361\n",
            "Training Loss: 0.6265026330947876\n",
            "Online Accuracy: 0.6505758157389636\n",
            "Training Loss: 0.6115160584449768\n",
            "Online Accuracy: 0.6417312417312417\n",
            "Training Loss: 0.5985638499259949\n",
            "Online Accuracy: 0.6546635087592995\n",
            "Training Loss: 0.5894901156425476\n",
            "Online Accuracy: 0.6698810048222366\n",
            "Training Loss: 0.5860534906387329\n",
            "Online Accuracy: 0.6824658704495323\n",
            "Training Loss: 0.7599123120307922\n",
            "Online Accuracy: 0.5928792569659442\n",
            "Training Loss: 0.6715700030326843\n",
            "Online Accuracy: 0.5928792569659442\n",
            "Training Loss: 0.6670324802398682\n",
            "Online Accuracy: 0.5928792569659442\n",
            "Training Loss: 0.6652224063873291\n",
            "Online Accuracy: 0.5928792569659442\n",
            "Training Loss: 0.6637982726097107\n",
            "Online Accuracy: 0.5928792569659442\n",
            "Training Loss: 0.6610540151596069\n",
            "Online Accuracy: 0.5928792569659442\n",
            "Training Loss: 0.6571579575538635\n",
            "Online Accuracy: 0.5928792569659442\n",
            "Training Loss: 0.6512398719787598\n",
            "Online Accuracy: 0.5966265994571539\n",
            "Training Loss: 0.6413760185241699\n",
            "Online Accuracy: 0.6836248012718601\n",
            "Training Loss: 0.6236372590065002\n",
            "Online Accuracy: 0.6795665634674923\n",
            "Training Loss: 0.5971149206161499\n",
            "Online Accuracy: 0.6613464085958198\n",
            "Training Loss: 0.5877110362052917\n",
            "Online Accuracy: 0.6663227928956621\n",
            "Training Loss: 0.6207923293113708\n",
            "Online Accuracy: 0.6469220678991303\n",
            "Training Loss: 0.605792224407196\n",
            "Online Accuracy: 0.6823360620159404\n",
            "Training Loss: 0.5897653102874756\n",
            "Online Accuracy: 0.6561552154879324\n",
            "Training Loss: 0.5806676745414734\n",
            "Online Accuracy: 0.6597741828590181\n",
            "Training Loss: 0.5871923565864563\n",
            "Online Accuracy: 0.681442983662661\n",
            "Training Loss: 0.5853684544563293\n",
            "Online Accuracy: 0.6661378986960382\n",
            "Training Loss: 0.5783286094665527\n",
            "Online Accuracy: 0.6676721447888496\n",
            "Training Loss: 0.5791460275650024\n",
            "Online Accuracy: 0.6676221804511278\n",
            "Training Loss: 0.5830094814300537\n",
            "Online Accuracy: 0.669915317189125\n",
            "Training Loss: 0.5762260556221008\n",
            "Online Accuracy: 0.6702024012813894\n",
            "Training Loss: 0.5823132395744324\n",
            "Online Accuracy: 0.6695545039705878\n",
            "Training Loss: 0.576664924621582\n",
            "Online Accuracy: 0.6740937561506489\n",
            "Training Loss: 0.5777024030685425\n",
            "Online Accuracy: 0.6712086540461826\n",
            "Wall Clock Time: 10.144909620285034\n"
          ]
        }
      ]
    },
    {
      "cell_type": "code",
      "metadata": {
        "colab": {
          "base_uri": "https://localhost:8080/",
          "height": 312
        },
        "id": "6YYdmifxitVC",
        "outputId": "41ffc30c-c543-4403-85fc-7b2132e0991f"
      },
      "source": [
        "plt.plot([10*i for i in list(range(len(accuracies)))], accuracies)\n",
        "plt.ylim(0.55, 0.75)\n",
        "plt.xlabel('Number of Epochs')\n",
        "plt.ylabel('Accuracy')\n",
        "plt.title('Accuracy across Epochs for DNN with SDG and Momentum')"
      ],
      "execution_count": 68,
      "outputs": [
        {
          "output_type": "execute_result",
          "data": {
            "text/plain": [
              "Text(0.5, 1.0, 'Accuracy across Epochs for DNN with SDG and Momentum')"
            ]
          },
          "metadata": {},
          "execution_count": 68
        },
        {
          "output_type": "display_data",
          "data": {
            "image/png": "[encoded data removed]",
            "text/plain": [
              "<Figure size 432x288 with 1 Axes>"
            ]
          },
          "metadata": {
            "needs_background": "light"
          }
        }
      ]
    },
    {
      "cell_type": "code",
      "metadata": {
        "id": "YJD_BMzW-MOl",
        "colab": {
          "base_uri": "https://localhost:8080/"
        },
        "outputId": "c1912376-ec5a-4075-b9e4-c67bdbb31b5c"
      },
      "source": [
        "model = NN(linear_input, network_size)\n",
        "loss = torch.nn.BCELoss()\n",
        "optimizer = torch.optim.SGD(model.parameters(), lr = 0.1, momentum=0.9, nesterov=True, weight_decay=5e-6)\n",
        "accuracies, training = train(model, loss, optimizer)"
      ],
      "execution_count": 69,
      "outputs": [
        {
          "output_type": "stream",
          "name": "stdout",
          "text": [
            "Training Loss: 0.7014290690422058\n",
            "Online Accuracy: 0.4071207430340557\n",
            "Training Loss: 0.6730817556381226\n",
            "Online Accuracy: 0.5928792569659442\n",
            "Training Loss: 0.6738413572311401\n",
            "Online Accuracy: 0.5928792569659442\n",
            "Training Loss: 0.6729662418365479\n",
            "Online Accuracy: 0.5928792569659442\n",
            "Training Loss: 0.6727504134178162\n",
            "Online Accuracy: 0.5928792569659442\n",
            "Training Loss: 0.6727005243301392\n",
            "Online Accuracy: 0.5928792569659442\n",
            "Training Loss: 0.6726227402687073\n",
            "Online Accuracy: 0.5928792569659442\n",
            "Training Loss: 0.6725549697875977\n",
            "Online Accuracy: 0.5928792569659442\n",
            "Training Loss: 0.6724687218666077\n",
            "Online Accuracy: 0.5928792569659442\n",
            "Training Loss: 0.6723646521568298\n",
            "Online Accuracy: 0.5928792569659442\n",
            "Training Loss: 0.6722395420074463\n",
            "Online Accuracy: 0.5928792569659442\n",
            "Training Loss: 0.6720874905586243\n",
            "Online Accuracy: 0.5928792569659442\n",
            "Training Loss: 0.6718973517417908\n",
            "Online Accuracy: 0.5928792569659442\n",
            "Training Loss: 0.6716530323028564\n",
            "Online Accuracy: 0.5928792569659442\n",
            "Training Loss: 0.6713301539421082\n",
            "Online Accuracy: 0.5928792569659442\n",
            "Training Loss: 0.6708921194076538\n",
            "Online Accuracy: 0.5928792569659442\n",
            "Training Loss: 0.6702808737754822\n",
            "Online Accuracy: 0.5928792569659442\n",
            "Training Loss: 0.6694027781486511\n",
            "Online Accuracy: 0.5928792569659442\n",
            "Training Loss: 0.6681001782417297\n",
            "Online Accuracy: 0.5928792569659442\n",
            "Training Loss: 0.6661040782928467\n",
            "Online Accuracy: 0.5928792569659442\n",
            "Training Loss: 0.6629513502120972\n",
            "Online Accuracy: 0.5928792569659442\n",
            "Training Loss: 0.6578859090805054\n",
            "Online Accuracy: 0.5928792569659442\n",
            "Training Loss: 0.6500293016433716\n",
            "Online Accuracy: 0.60207336523126\n",
            "Training Loss: 0.639026403427124\n",
            "Online Accuracy: 0.638917179701553\n",
            "Training Loss: 0.6247419714927673\n",
            "Online Accuracy: 0.639314253083765\n",
            "Training Loss: 0.7593495845794678\n",
            "Online Accuracy: 0.4071207430340557\n",
            "Training Loss: 0.6765186786651611\n",
            "Online Accuracy: 0.5928792569659442\n",
            "Training Loss: 0.673405110836029\n",
            "Online Accuracy: 0.5928792569659442\n",
            "Training Loss: 0.6714815497398376\n",
            "Online Accuracy: 0.5928792569659442\n",
            "Training Loss: 0.6701260805130005\n",
            "Online Accuracy: 0.5928792569659442\n",
            "Training Loss: 0.6683955788612366\n",
            "Online Accuracy: 0.5928792569659442\n",
            "Training Loss: 0.6667336225509644\n",
            "Online Accuracy: 0.5928792569659442\n",
            "Training Loss: 0.6642462015151978\n",
            "Online Accuracy: 0.5928792569659442\n",
            "Training Loss: 0.6603292226791382\n",
            "Online Accuracy: 0.5928792569659442\n",
            "Training Loss: 0.6527249217033386\n",
            "Online Accuracy: 0.5928792569659442\n",
            "Training Loss: 0.6414949297904968\n",
            "Online Accuracy: 0.46306341211416757\n",
            "Training Loss: 0.6270993947982788\n",
            "Online Accuracy: 0.6648691762176409\n",
            "Training Loss: 0.7150697112083435\n",
            "Online Accuracy: 0.625404948741694\n",
            "Training Loss: 0.654241681098938\n",
            "Online Accuracy: 0.5465838509316769\n",
            "Training Loss: 0.6262941360473633\n",
            "Online Accuracy: 0.2963608207510647\n",
            "Training Loss: 0.6098653078079224\n",
            "Online Accuracy: 0.6666766652668626\n",
            "Training Loss: 0.6725308299064636\n",
            "Online Accuracy: 0.6588271062766029\n",
            "Training Loss: 0.6110069155693054\n",
            "Online Accuracy: 0.6742382089159322\n",
            "Training Loss: 0.6021117568016052\n",
            "Online Accuracy: 0.6669279500874888\n",
            "Training Loss: 0.6826760172843933\n",
            "Online Accuracy: 0.6470883366016599\n",
            "Training Loss: 0.6078829169273376\n",
            "Online Accuracy: 0.6772892902408112\n",
            "Training Loss: 0.6235191822052002\n",
            "Online Accuracy: 0.6772675243025301\n",
            "Training Loss: 0.6181402206420898\n",
            "Online Accuracy: 0.6805715875112996\n",
            "Training Loss: 0.6105086207389832\n",
            "Online Accuracy: 0.6777895926389039\n",
            "Training Loss: 0.6128019690513611\n",
            "Online Accuracy: 0.6836126373626374\n",
            "Training Loss: 0.6034405827522278\n",
            "Online Accuracy: 0.679364950594649\n",
            "Training Loss: 0.6140332221984863\n",
            "Online Accuracy: 0.6909107036894298\n",
            "Training Loss: 0.5915729403495789\n",
            "Online Accuracy: 0.6824493731918997\n",
            "Training Loss: 0.6050058007240295\n",
            "Online Accuracy: 0.6841653426272359\n",
            "Training Loss: 0.5842311382293701\n",
            "Online Accuracy: 0.6786239951414486\n",
            "Training Loss: 0.7531901597976685\n",
            "Online Accuracy: 0.6654883107088989\n",
            "Training Loss: 0.5900031328201294\n",
            "Online Accuracy: 0.6698533882845754\n",
            "Training Loss: 0.5822752714157104\n",
            "Online Accuracy: 0.6694114561262614\n",
            "Training Loss: 0.5964006185531616\n",
            "Online Accuracy: 0.6431781701444623\n",
            "Training Loss: 0.5831236243247986\n",
            "Online Accuracy: 0.6785651801308911\n",
            "Training Loss: 0.6550706028938293\n",
            "Online Accuracy: 0.6827889154424904\n",
            "Training Loss: 0.5834620594978333\n",
            "Online Accuracy: 0.6821460111863409\n",
            "Training Loss: 0.5907300114631653\n",
            "Online Accuracy: 0.6803774347494909\n",
            "Training Loss: 0.5835099220275879\n",
            "Online Accuracy: 0.678558617570455\n",
            "Training Loss: 0.628809928894043\n",
            "Online Accuracy: 0.6860607179730172\n",
            "Training Loss: 0.5808738470077515\n",
            "Online Accuracy: 0.6761653031041852\n",
            "Training Loss: 0.5779114961624146\n",
            "Online Accuracy: 0.6729806380930856\n",
            "Training Loss: 0.6217252612113953\n",
            "Online Accuracy: 0.6820298150208456\n",
            "Training Loss: 0.5776916146278381\n",
            "Online Accuracy: 0.6711922224117346\n",
            "Training Loss: 0.6432240009307861\n",
            "Online Accuracy: 0.6832107843137255\n",
            "Training Loss: 0.5793806314468384\n",
            "Online Accuracy: 0.6740300113588809\n",
            "Training Loss: 0.5765737295150757\n",
            "Online Accuracy: 0.6682314588091379\n",
            "Training Loss: 0.6186872124671936\n",
            "Online Accuracy: 0.6840322388734181\n",
            "Training Loss: 0.5770958662033081\n",
            "Online Accuracy: 0.6751163951664583\n",
            "Training Loss: 0.6142258048057556\n",
            "Online Accuracy: 0.6818154538634659\n",
            "Training Loss: 0.5788686275482178\n",
            "Online Accuracy: 0.6779446810529504\n",
            "Training Loss: 0.5758071541786194\n",
            "Online Accuracy: 0.6664333771033288\n",
            "Training Loss: 0.5753338932991028\n",
            "Online Accuracy: 0.6743643933890238\n",
            "Training Loss: 0.5870375633239746\n",
            "Online Accuracy: 0.6788164166957331\n",
            "Training Loss: 0.5791343450546265\n",
            "Online Accuracy: 0.6779335080700786\n",
            "Wall Clock Time: 10.40811800956726\n"
          ]
        }
      ]
    },
    {
      "cell_type": "code",
      "metadata": {
        "id": "XklwWHxd-QUm",
        "colab": {
          "base_uri": "https://localhost:8080/",
          "height": 312
        },
        "outputId": "d83c0f00-c9a4-43d0-b8b1-e9f889dd4e71"
      },
      "source": [
        "plt.plot([10*i for i in list(range(len(accuracies)))], accuracies)\n",
        "plt.ylim(0.55, 0.75)\n",
        "plt.xlabel('Number of Epochs')\n",
        "plt.ylabel('Accuracy')\n",
        "plt.title('Accuracy across Epochs for DNN with SDG and Nesterov Momentum')"
      ],
      "execution_count": 70,
      "outputs": [
        {
          "output_type": "execute_result",
          "data": {
            "text/plain": [
              "Text(0.5, 1.0, 'Accuracy across Epochs for DNN with SDG and Nesterov Momentum')"
            ]
          },
          "metadata": {},
          "execution_count": 70
        },
        {
          "output_type": "display_data",
          "data": {
            "image/png": "[encoded data removed]",
            "text/plain": [
              "<Figure size 432x288 with 1 Axes>"
            ]
          },
          "metadata": {
            "needs_background": "light"
          }
        }
      ]
    },
    {
      "cell_type": "code",
      "metadata": {
        "colab": {
          "base_uri": "https://localhost:8080/"
        },
        "id": "d3sH-3qWYosy",
        "outputId": "b7e6c4c7-6e68-45f5-cff7-953abe3f4b1e"
      },
      "source": [
        "model = NN(linear_input, network_size)\n",
        "loss = torch.nn.BCELoss()\n",
        "optimizer = torch.optim.Adam(model.parameters(), lr = 0.05, weight_decay=1e-5)\n",
        "accuracies, training = train(model, loss, optimizer)"
      ],
      "execution_count": 71,
      "outputs": [
        {
          "output_type": "stream",
          "name": "stdout",
          "text": [
            "Training Loss: 0.7056742906570435\n",
            "Online Accuracy: 0.5928792569659442\n",
            "Training Loss: 0.6750909090042114\n",
            "Online Accuracy: 0.5928792569659442\n",
            "Training Loss: 0.6644356846809387\n",
            "Online Accuracy: 0.47013327825062323\n",
            "Training Loss: 0.6820714473724365\n",
            "Online Accuracy: 0.5771864009378664\n",
            "Training Loss: 0.6735105514526367\n",
            "Online Accuracy: 0.5928792569659442\n",
            "Training Loss: 0.6714621186256409\n",
            "Online Accuracy: 0.5928792569659442\n",
            "Training Loss: 0.6712740063667297\n",
            "Online Accuracy: 0.5928792569659442\n",
            "Training Loss: 0.6670325398445129\n",
            "Online Accuracy: 0.5928792569659442\n",
            "Training Loss: 0.6474797129631042\n",
            "Online Accuracy: 0.5906095284473662\n",
            "Training Loss: 0.6536524891853333\n",
            "Online Accuracy: 0.6021671826625388\n",
            "Training Loss: 0.6523550748825073\n",
            "Online Accuracy: 0.6151107276387691\n",
            "Training Loss: 0.6383461356163025\n",
            "Online Accuracy: 0.6254357732986966\n",
            "Training Loss: 0.6361890435218811\n",
            "Online Accuracy: 0.6225949459907152\n",
            "Training Loss: 0.6972208023071289\n",
            "Online Accuracy: 0.5928792569659442\n",
            "Training Loss: 0.6320052146911621\n",
            "Online Accuracy: 0.6088060801116755\n",
            "Training Loss: 0.9768558740615845\n",
            "Online Accuracy: 0.6701731771563078\n",
            "Training Loss: 0.7931414246559143\n",
            "Online Accuracy: 0.4071207430340557\n",
            "Training Loss: 0.7261561155319214\n",
            "Online Accuracy: 0.5928792569659442\n",
            "Training Loss: 0.6625630259513855\n",
            "Online Accuracy: 0.2963608207510647\n",
            "Training Loss: 1.0620914697647095\n",
            "Online Accuracy: 0.6360108145822432\n",
            "Training Loss: 0.7320402264595032\n",
            "Online Accuracy: 0.6117794486215539\n",
            "Training Loss: 0.6400821208953857\n",
            "Online Accuracy: 0.6098096457328819\n",
            "Training Loss: 0.6459913849830627\n",
            "Online Accuracy: 0.6273126883149864\n",
            "Training Loss: 0.6250312328338623\n",
            "Online Accuracy: 0.6706088407005839\n",
            "Training Loss: 0.6232064366340637\n",
            "Online Accuracy: 0.6337965266838039\n",
            "Training Loss: 0.602234959602356\n",
            "Online Accuracy: 0.6408543285456401\n",
            "Training Loss: 0.6035735607147217\n",
            "Online Accuracy: 0.6437358325569871\n",
            "Training Loss: 0.597165048122406\n",
            "Online Accuracy: 0.6827857789622948\n",
            "Training Loss: 0.591305673122406\n",
            "Online Accuracy: 0.6497085754867231\n",
            "Training Loss: 0.6028330326080322\n",
            "Online Accuracy: 0.6937127644155587\n",
            "Training Loss: 0.5997763276100159\n",
            "Online Accuracy: 0.6857139055222887\n",
            "Training Loss: 0.5890101790428162\n",
            "Online Accuracy: 0.6548539499050854\n",
            "Training Loss: 0.5843874216079712\n",
            "Online Accuracy: 0.6681749622926093\n",
            "Training Loss: 0.5826526880264282\n",
            "Online Accuracy: 0.655995641399461\n",
            "Training Loss: 0.5904852747917175\n",
            "Online Accuracy: 0.6742223530566185\n",
            "Training Loss: 0.581224799156189\n",
            "Online Accuracy: 0.6769694061262537\n",
            "Training Loss: 0.5817745327949524\n",
            "Online Accuracy: 0.6625641420361248\n",
            "Training Loss: 0.578866183757782\n",
            "Online Accuracy: 0.6683512624641308\n",
            "Training Loss: 0.5806058049201965\n",
            "Online Accuracy: 0.6843847104621748\n",
            "Training Loss: 0.5934413075447083\n",
            "Online Accuracy: 0.6489094999218064\n",
            "Training Loss: 0.5895013213157654\n",
            "Online Accuracy: 0.6671330556236217\n",
            "Training Loss: 0.5822945237159729\n",
            "Online Accuracy: 0.6686403945795137\n",
            "Training Loss: 0.5793111324310303\n",
            "Online Accuracy: 0.6722749623564841\n",
            "Training Loss: 0.5971227288246155\n",
            "Online Accuracy: 0.6806161769958081\n",
            "Training Loss: 0.5821305513381958\n",
            "Online Accuracy: 0.6794422274740743\n",
            "Training Loss: 0.5786979794502258\n",
            "Online Accuracy: 0.6736584319747561\n",
            "Training Loss: 0.583143413066864\n",
            "Online Accuracy: 0.6705290244456217\n",
            "Training Loss: 0.5882521867752075\n",
            "Online Accuracy: 0.6669172932330827\n",
            "Training Loss: 0.5798479914665222\n",
            "Online Accuracy: 0.6732896143098056\n",
            "Training Loss: 0.5756759643554688\n",
            "Online Accuracy: 0.6689704716114026\n",
            "Training Loss: 0.5984249114990234\n",
            "Online Accuracy: 0.6774703934249995\n",
            "Training Loss: 0.5925194025039673\n",
            "Online Accuracy: 0.6677721448846174\n",
            "Training Loss: 0.5957558155059814\n",
            "Online Accuracy: 0.664890707681764\n",
            "Training Loss: 0.5790054798126221\n",
            "Online Accuracy: 0.6725087233169129\n",
            "Training Loss: 0.5772697925567627\n",
            "Online Accuracy: 0.6750196907515649\n",
            "Training Loss: 0.5770403146743774\n",
            "Online Accuracy: 0.6729311471514288\n",
            "Training Loss: 0.5881367921829224\n",
            "Online Accuracy: 0.6579878665318504\n",
            "Training Loss: 0.57578444480896\n",
            "Online Accuracy: 0.6728078318434216\n",
            "Training Loss: 0.5765783190727234\n",
            "Online Accuracy: 0.6712760273735305\n",
            "Training Loss: 0.5782032608985901\n",
            "Online Accuracy: 0.6721739709161093\n",
            "Training Loss: 0.5939364433288574\n",
            "Online Accuracy: 0.6647939401458742\n",
            "Training Loss: 0.5779895186424255\n",
            "Online Accuracy: 0.6759217260114581\n",
            "Training Loss: 0.5876279473304749\n",
            "Online Accuracy: 0.67060408924757\n",
            "Training Loss: 0.575319766998291\n",
            "Online Accuracy: 0.6751577614210451\n",
            "Training Loss: 0.5740439295768738\n",
            "Online Accuracy: 0.6742015203067522\n",
            "Training Loss: 0.5734179019927979\n",
            "Online Accuracy: 0.6772482326938976\n",
            "Training Loss: 0.5736660361289978\n",
            "Online Accuracy: 0.6749243194595416\n",
            "Training Loss: 0.578172504901886\n",
            "Online Accuracy: 0.6727899950396079\n",
            "Training Loss: 0.5740872621536255\n",
            "Online Accuracy: 0.6758678949770001\n",
            "Training Loss: 0.5846911668777466\n",
            "Online Accuracy: 0.6651945935094548\n",
            "Training Loss: 0.5726143717765808\n",
            "Online Accuracy: 0.6737397111901755\n",
            "Training Loss: 0.5754600763320923\n",
            "Online Accuracy: 0.6726742190181942\n",
            "Training Loss: 0.5764191150665283\n",
            "Online Accuracy: 0.6768577753979215\n",
            "Training Loss: 0.5726463794708252\n",
            "Online Accuracy: 0.6787843592721642\n",
            "Training Loss: 0.5720126628875732\n",
            "Online Accuracy: 0.6729052081812059\n",
            "Training Loss: 0.5782797932624817\n",
            "Online Accuracy: 0.6709084665512708\n",
            "Training Loss: 0.5804795622825623\n",
            "Online Accuracy: 0.6754679998863733\n",
            "Training Loss: 0.582672655582428\n",
            "Online Accuracy: 0.6647225846059397\n",
            "Training Loss: 0.5741583108901978\n",
            "Online Accuracy: 0.6745082524743542\n",
            "Training Loss: 0.5801106095314026\n",
            "Online Accuracy: 0.6720315481870229\n",
            "Wall Clock Time: 10.163065195083618\n"
          ]
        }
      ]
    },
    {
      "cell_type": "code",
      "metadata": {
        "colab": {
          "base_uri": "https://localhost:8080/",
          "height": 312
        },
        "id": "3wy3N_3sZub9",
        "outputId": "14de19aa-9c9e-40b5-de53-d81a5fdbd14a"
      },
      "source": [
        "plt.plot([10*i for i in list(range(len(accuracies)))], accuracies)\n",
        "plt.ylim(0.55, 0.75)\n",
        "plt.xlabel('Number of Epochs')\n",
        "plt.ylabel('Accuracy')\n",
        "plt.title('Accuracy across Epochs for DNN with Adam')"
      ],
      "execution_count": 72,
      "outputs": [
        {
          "output_type": "execute_result",
          "data": {
            "text/plain": [
              "Text(0.5, 1.0, 'Accuracy across Epochs for DNN with Adam')"
            ]
          },
          "metadata": {},
          "execution_count": 72
        },
        {
          "output_type": "display_data",
          "data": {
            "image/png": "[encoded data removed]",
            "text/plain": [
              "<Figure size 432x288 with 1 Axes>"
            ]
          },
          "metadata": {
            "needs_background": "light"
          }
        }
      ]
    },
    {
      "cell_type": "code",
      "metadata": {
        "id": "nSDqXe0Ejfl3"
      },
      "source": [
        ""
      ],
      "execution_count": 72,
      "outputs": []
    },
    {
      "cell_type": "code",
      "source": [
        ""
      ],
      "metadata": {
        "id": "brclX5AJQqIm"
      },
      "execution_count": null,
      "outputs": []
    }
  ]
}